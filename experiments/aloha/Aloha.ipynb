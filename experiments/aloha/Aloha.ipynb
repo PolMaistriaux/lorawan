{
 "cells": [
  {
   "cell_type": "code",
   "execution_count": 2,
   "id": "8c3ca58f-e7a5-421e-941e-9404de6f711c",
   "metadata": {},
   "outputs": [
    {
     "name": "stdout",
     "output_type": "stream",
     "text": [
      "DRMAA_AVAILABLE: False\n",
      "Runner Type is : ParallelRunner\n"
     ]
    },
    {
     "name": "stderr",
     "output_type": "stream",
     "text": [
      "Running simulations: 100%|██████████| 5000/5000 [01:13<00:00, 68.13simulation/s]\n"
     ]
    }
   ],
   "source": [
    "import sem\n",
    "import numpy as np\n",
    "import seaborn as sns\n",
    "sns.set_style('whitegrid')\n",
    "import matplotlib.pyplot as plt\n",
    "\n",
    "# Create our SEM campaign\n",
    "ns_3_dir = '../../../../'\n",
    "script = 'aloha-throughput'\n",
    "results_dir = 'aloha-results'\n",
    "campaign = sem.CampaignManager.new(ns_3_dir, script, results_dir,\n",
    "                                   check_repo=False, overwrite=True,skip_configuration=True)\n",
    "\n",
    "# Define the parameter space we are interested in exploring\n",
    "params = {\n",
    "    'nDevices': [100],\n",
    "    'simulationTime':  [round(i, 4) for i in np.logspace(0.5, 2, base=60, num=100, dtype='float')],\n",
    "    'radius': [7500],\n",
    "    'interferenceMatrix': [\"aloha\"] #lambda p: [\"aloha\"] if p[\"radius\"] == 0 else [\"goursaud\"],\n",
    "}\n",
    "\n",
    "runs = 50\n",
    "\n",
    "# Run simulations with the above parameter space\n",
    "campaign.run_missing_simulations(params, runs)"
   ]
  },
  {
   "cell_type": "code",
   "execution_count": 3,
   "id": "01dfebc1-5a38-4c14-b2a6-c4017c0b66f0",
   "metadata": {},
   "outputs": [
    {
     "data": {
      "text/plain": [
       "{'params': {'nDevices': 100,\n",
       "  'simulationTime': 633.7753,\n",
       "  'radius': 7500,\n",
       "  'interferenceMatrix': 'aloha',\n",
       "  'RngRun': 3579},\n",
       " 'meta': {'id': 'f4b876e5-3f5a-4a0a-9102-cec9c1b1ff07',\n",
       "  'elapsed_time': 0.08789348602294922,\n",
       "  'exitcode': 0},\n",
       " 'output': {'durations.txt': '112896 205312 369664 657408 1478656 2629632 ',\n",
       "  'stderr': '',\n",
       "  'stdout': '19 14\\n9 8\\n7 4\\n13 9\\n16 10\\n36 24\\n'}}"
      ]
     },
     "metadata": {},
     "output_type": "display_data"
    },
    {
     "name": "stdout",
     "output_type": "stream",
     "text": [
      "python3 waf --run \"aloha-throughput --nDevices=100 --simulationTime=633.7753 --radius=7500 --interferenceMatrix=aloha --RngRun=3579\"\n"
     ]
    }
   ],
   "source": [
    "example_result = campaign.db.get_complete_results()[0]\n",
    "display(example_result)\n",
    "print(sem.utils.get_command_from_result('aloha-throughput', example_result))"
   ]
  },
  {
   "cell_type": "code",
   "execution_count": 4,
   "id": "1243d8c8-7763-494f-b433-7c57ea6d1cc5",
   "metadata": {},
   "outputs": [],
   "source": [
    "@sem.utils.output_labels(['G', 'S'])\n",
    "def get_throughput(result):\n",
    "    \"\"\"\n",
    "    Extract the probability of success from the simulation output\n",
    "    \"\"\"\n",
    "    durations = [float(i)/1e6 for i in result['output']['durations.txt'].split()]\n",
    "    sent = 0\n",
    "    g = 0\n",
    "    s = 0\n",
    "    sf = 7\n",
    "    for sf_performance in result['output']['stdout'].splitlines():\n",
    "        sent, received = [float(i) for i in sf_performance.split()]\n",
    "        current_g = sent * durations[sf-7] / result['params']['simulationTime']\n",
    "        g += current_g\n",
    "        if sent == 0:\n",
    "            s += 0\n",
    "        else:\n",
    "            s += current_g * received / sent\n",
    "        sf += 1\n",
    "    return [g, s]"
   ]
  },
  {
   "cell_type": "code",
   "execution_count": 6,
   "id": "6e3cb8e8-db9c-40ed-ac56-e29c7b1ca2d7",
   "metadata": {},
   "outputs": [
    {
     "name": "stdout",
     "output_type": "stream",
     "text": [
      "      nDevices  simulationTime  radius interferenceMatrix  RngRun          G  \\\n",
      "0          100           7.746    7500              aloha      12  18.948429   \n",
      "1          100           7.746    7500              aloha       7  20.507067   \n",
      "2          100           7.746    7500              aloha      41  21.071285   \n",
      "3          100           7.746    7500              aloha      48  19.963208   \n",
      "4          100           7.746    7500              aloha      47  22.968184   \n",
      "...        ...             ...     ...                ...     ...        ...   \n",
      "4995       100        3600.000    7500              aloha    4968   0.038312   \n",
      "4996       100        3600.000    7500              aloha    4995   0.041006   \n",
      "4997       100        3600.000    7500              aloha    4952   0.038902   \n",
      "4998       100        3600.000    7500              aloha    4970   0.037947   \n",
      "4999       100        3600.000    7500              aloha    4980   0.042958   \n",
      "\n",
      "             S  \n",
      "0     0.041080  \n",
      "1     0.047723  \n",
      "2     0.055655  \n",
      "3     0.125951  \n",
      "4     0.111376  \n",
      "...        ...  \n",
      "4995  0.036820  \n",
      "4996  0.040173  \n",
      "4997  0.036437  \n",
      "4998  0.033998  \n",
      "4999  0.041314  \n",
      "\n",
      "[5000 rows x 7 columns]\n"
     ]
    }
   ],
   "source": [
    "results = campaign.get_results_as_dataframe(get_throughput,\n",
    "                                            params=params)\n",
    "print(results)"
   ]
  },
  {
   "cell_type": "code",
   "execution_count": null,
   "id": "d74a1445-3b68-43fd-b900-7c597730ce9d",
   "metadata": {},
   "outputs": [],
   "source": [
    "results = results.join(results.groupby(list(params.keys()))['G'].mean(), on=list(params.keys()), rsuffix='_avg')"
   ]
  },
  {
   "cell_type": "code",
   "execution_count": null,
   "id": "c52db2a3-a52d-4193-9360-1cfa398a614b",
   "metadata": {},
   "outputs": [
    {
     "data": {
      "image/png": "[encoded data removed]",
      "text/plain": [
       "<Figure size 432x288 with 1 Axes>"
      ]
     },
     "metadata": {},
     "output_type": "display_data"
    }
   ],
   "source": [
    "sns.lineplot(data=results,\n",
    "            x='G_avg', \n",
    "            y='S',\n",
    "            hue='radius')\n",
    "\n",
    "plt.show()"
   ]
  }
 ],
 "metadata": {
  "kernelspec": {
   "display_name": "Python 3",
   "language": "python",
   "name": "python3"
  },
  "language_info": {
   "codemirror_mode": {
    "name": "ipython",
    "version": 3
   },
   "file_extension": ".py",
   "mimetype": "text/x-python",
   "name": "python",
   "nbconvert_exporter": "python",
   "pygments_lexer": "ipython3",
   "version": "3.8.10"
  }
 },
 "nbformat": 4,
 "nbformat_minor": 5
}
